{
 "cells": [
  {
   "cell_type": "code",
   "execution_count": 29,
   "metadata": {},
   "outputs": [],
   "source": [
    "# define theta_1 and theta_2 the prob that a coin flip lands heads\n",
    "import numpy as np\n",
    "import matplotlib.pyplot as plt\n",
    "from scipy.stats import beta\n",
    "import math"
   ]
  },
  {
   "cell_type": "code",
   "execution_count": 127,
   "metadata": {},
   "outputs": [],
   "source": [
    "# initial distributions for theta_1 and theta_2, beta \n",
    "\n",
    "# parameters, lets say theta_1 is unbiased and prior to our data we observed 5 heads and 6 tails.\n",
    "theta_1 = beta(5,6)\n",
    "\n",
    "# lets say theta_2 is biased. Prior to our data we observed 10 heads and 4 tails\n",
    "theta_2 = beta(10,4)\n"
   ]
  },
  {
   "cell_type": "code",
   "execution_count": 175,
   "metadata": {},
   "outputs": [],
   "source": [
    "# for theta_1, the data we obtain is 10 heads and 10 tails \n",
    "# for theta_2, the data we obtain is 15 heads and 6 tails\n",
    "\n",
    "# start metropolis hastings. Posterior can be computed analytically as well.\n",
    "\n",
    "def nCr(n,r):\n",
    "    f = math.factorial\n",
    "    return f(n) / f(r) / f(n-r)\n",
    "\n",
    "def likelihood(theta, trials, heads):\n",
    "    likelihood = nCr(trials, heads) * (theta**heads) * (1 - theta) ** (trials - heads)\n",
    "    return likelihood\n",
    "\n",
    "def log_prior(prior, theta):\n",
    "    return prior.pdf(theta)\n",
    "\n",
    "def compute_acceptance_prob(theta_curr, theta_prop, trials, heads, prior):\n",
    "    # likelihood * prior. Compute the log unnormalized posterior\n",
    "    # logPost = logLLH + logPrior\n",
    "#     theta_curr_1 = theta_curr[0]\n",
    "#     theta_curr_2 = theta_curr[1]\n",
    "    \n",
    "#     theta_prop_1 = theta_prop[0]\n",
    "#     theta_prop_2 = theta_prop[1]\n",
    "    \n",
    "#     print(theta_prop_1)\n",
    "#     print(theta_prop_2)\n",
    "#     print(theta_curr_1)\n",
    "#     print(theta_curr_2)\n",
    "    \n",
    "#     log_likelihood_theta_curr_1 = log_likeilihood(theta_curr_1, 20, 10) # 20 trials, 10 heads\n",
    "#     log_likelihood_theta_curr_2 = log_likeilihood(theta_curr_2, 21, 15) # 21 trials, 15 heads\n",
    "    \n",
    "#     log_likelihood_theta_prop_1 = log_likeilihood(theta_prop_1, 20, 10) # 20 trials, 10 heads\n",
    "#     log_likelihood_theta_prop_2 = log_likeilihood(theta_prop_2, 21, 15) # 21 trials, 15 heads\n",
    "    \n",
    "    \n",
    "#     log_prior_curr_1 = log_prior(theta_1, theta_curr_1)\n",
    "#     log_prior_curr_2 = log_prior(theta_2, theta_curr_2)\n",
    "    \n",
    "#     log_prior_prop_1 = log_prior(theta_1, theta_prop_1)\n",
    "#     log_prior_prop_2 = log_prior(theta_2, theta_prop_2)\n",
    "    \n",
    "#     joint_likelihood_curr = log_likelihood_theta_curr_1 + log_likelihood_theta_curr_2\n",
    "#     joint_likelihood_prop = log_likelihood_theta_prop_1 + log_likelihood_theta_prop_2\n",
    "    \n",
    "#     log_post_curr = joint_likelihood_curr + log_prior_curr_1 + log_prior_curr_2\n",
    "#     log_post_prop = joint_likelihood_prop + log_prior_prop_1 + log_prior_prop_2\n",
    "\n",
    "\n",
    "    likelihood_theta_curr = likelihood(theta_curr, trials, heads)\n",
    "    likelihood_theta_prop = likelihood(theta_prop, trials, heads)\n",
    "    \n",
    "    prior_curr = log_prior(prior, theta_curr)\n",
    "    prior_prop = log_prior(prior, theta_prop)\n",
    "    \n",
    "    post_curr = likelihood_theta_curr + prior_curr\n",
    "    post_prop = likelihood_theta_prop + prior_prop\n",
    "    \n",
    "    \n",
    "    return min(1, post_prop / post_curr)\n",
    "\n",
    "\n",
    "# theta_curr = np.array([np.random.beta(5,6), np.random.beta(10,4)]) # sample from beta \n",
    "# print(theta_curr)\n",
    "# MAX_ITERS = 1000000\n",
    "# prop_mean = [0,0]\n",
    "# prop_cov = [[0.05,0],[0,0.05]]\n",
    "# thetas = []\n",
    "# for i in range(MAX_ITERS):\n",
    "#     # sample from gaussian proposal \n",
    "#     #print(np.random.multivariate_normal(prop_mean, prop_cov))\n",
    "#     theta_prop = theta_curr + np.random.multivariate_normal(prop_mean, prop_cov)\n",
    "    \n",
    "#     #check theta values\n",
    "#     theta_1_curr = theta_prop[0]\n",
    "#     theta_2_curr = theta_prop[1]\n",
    "    \n",
    "#     if (theta_1_curr > 1 or theta_1_curr < 0):\n",
    "#         continue\n",
    "        \n",
    "#     if (theta_2_curr > 1 or theta_2_curr < 0):\n",
    "#         continue\n",
    "        \n",
    "#     #print(theta_prop)\n",
    "#     # evaluate unnormalized posterior\n",
    "#     prob = compute_acceptance_prob(theta_curr, theta_prop)\n",
    "#     r = np.random.uniform(0,1)\n",
    "#     # evaluate unnormalized posterior\n",
    "#     if prob > r:\n",
    "#         theta_curr = theta_prop\n",
    "#     thetas.append(theta_curr)"
   ]
  },
  {
   "cell_type": "code",
   "execution_count": 189,
   "metadata": {},
   "outputs": [],
   "source": [
    "def Metropolis_hastings(prior, a, b, trials, heads, MAX_ITERS = 100000):\n",
    "    thetas = []\n",
    "    theta_curr = beta.rvs(a,b)\n",
    "    for i in range(MAX_ITERS):\n",
    "        theta_prop = theta_curr + np.random.normal(0, 0.05)\n",
    "        #print(theta_prop)\n",
    "        if theta_prop > 1 or theta_prop < 0:\n",
    "            theta_prop = theta_curr\n",
    "        \n",
    "        prob = compute_acceptance_prob(theta_curr, theta_prop, trials, heads, prior)\n",
    "        r = np.random.uniform(0,1)\n",
    "        \n",
    "        if prob > r:\n",
    "            theta_curr = theta_prop\n",
    "        \n",
    "        thetas.append(theta_curr)\n",
    "    return thetas\n",
    "\n",
    "#thetas = Metropolis_hastings(theta_1, 5, 6, 20, 10)"
   ]
  },
  {
   "cell_type": "code",
   "execution_count": 180,
   "metadata": {},
   "outputs": [
    {
     "data": {
      "image/png": "[encoded data removed]",
      "text/plain": [
       "<Figure size 432x288 with 1 Axes>"
      ]
     },
     "metadata": {
      "needs_background": "light"
     },
     "output_type": "display_data"
    }
   ],
   "source": [
    "plt.hist(thetas[20000:], histtype='stepfilled', \n",
    "         color = 'darkred', bins=30, alpha=0.8, density=True);"
   ]
  },
  {
   "cell_type": "code",
   "execution_count": 181,
   "metadata": {},
   "outputs": [
    {
     "data": {
      "text/plain": [
       "0.4588372735106771"
      ]
     },
     "execution_count": 181,
     "metadata": {},
     "output_type": "execute_result"
    }
   ],
   "source": [
    "np.mean(thetas[20000:])"
   ]
  },
  {
   "cell_type": "code",
   "execution_count": 170,
   "metadata": {},
   "outputs": [
    {
     "data": {
      "text/plain": [
       "1.0"
      ]
     },
     "execution_count": 170,
     "metadata": {},
     "output_type": "execute_result"
    }
   ],
   "source": [
    "nCr(10,10)"
   ]
  },
  {
   "cell_type": "code",
   "execution_count": 190,
   "metadata": {},
   "outputs": [],
   "source": [
    "thetas_2 = Metropolis_hastings(theta_2, 10, 4, 21, 15)"
   ]
  },
  {
   "cell_type": "code",
   "execution_count": 191,
   "metadata": {},
   "outputs": [
    {
     "data": {
      "image/png": "[encoded data removed]",
      "text/plain": [
       "<Figure size 432x288 with 1 Axes>"
      ]
     },
     "metadata": {
      "needs_background": "light"
     },
     "output_type": "display_data"
    }
   ],
   "source": [
    "plt.hist(thetas_2[50000:], histtype='stepfilled', \n",
    "         color = 'darkblue', bins=30, alpha=0.8, density=True);"
   ]
  },
  {
   "cell_type": "code",
   "execution_count": 192,
   "metadata": {},
   "outputs": [
    {
     "name": "stdout",
     "output_type": "stream",
     "text": [
      "0.7153680246359329\n"
     ]
    }
   ],
   "source": [
    "thetas_2 = Metropolis_hastings(theta_2, 10, 4, 21, 15)\n",
    "print(np.mean(thetas_2))"
   ]
  },
  {
   "cell_type": "code",
   "execution_count": null,
   "metadata": {},
   "outputs": [],
   "source": []
  }
 ],
 "metadata": {
  "kernelspec": {
   "display_name": "Python 3",
   "language": "python",
   "name": "python3"
  },
  "language_info": {
   "codemirror_mode": {
    "name": "ipython",
    "version": 3
   },
   "file_extension": ".py",
   "mimetype": "text/x-python",
   "name": "python",
   "nbconvert_exporter": "python",
   "pygments_lexer": "ipython3",
   "version": "3.6.9"
  }
 },
 "nbformat": 4,
 "nbformat_minor": 4
}
