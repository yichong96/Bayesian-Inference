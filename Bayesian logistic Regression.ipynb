{
 "cells": [
  {
   "cell_type": "code",
   "execution_count": 9,
   "metadata": {},
   "outputs": [],
   "source": [
    "# Bayesian inference problem for probability of survival for Sepsis patients\n",
    "# look at SOFA scores to determine uncertainty\n",
    "# Maximum SOFA score reached during trajectory and whether there was death or not\n",
    "import pandas as pd\n",
    "import numpy as np\n",
    "import matplotlib.pyplot as plt\n",
    "import scipy.stats\n",
    "import math"
   ]
  },
  {
   "cell_type": "code",
   "execution_count": 4,
   "metadata": {},
   "outputs": [],
   "source": [
    "data = pd.read_csv(\"../data/mimicdata_MK.csv\")"
   ]
  },
  {
   "cell_type": "code",
   "execution_count": 5,
   "metadata": {},
   "outputs": [],
   "source": [
    "# y = a(1 - r)^x\n",
    "# a = 1 and let r be unknown\n",
    "# x = max. SOFA score in a trjectory\n",
    "curr_sofa = -1\n",
    "curr_mort = -1\n",
    "dct = {}\n",
    "# visualize data likelihood\n",
    "for i in range(len(data) - 1):\n",
    "    curr_state = data.iloc[i]\n",
    "    next_state = data.iloc[i+1]\n",
    "    \n",
    "    sofa = curr_state['SOFA']\n",
    "    mort = curr_state['died_in_hosp']\n",
    "    icu_curr = curr_state['icustayid']\n",
    "    icu_next = next_state['icustayid']\n",
    "    \n",
    "    if (sofa > curr_sofa):\n",
    "        curr_sofa = sofa\n",
    "        curr_mort = mort\n",
    "        \n",
    "    if (icu_curr != icu_next):\n",
    "        # add statistics. (total, mortality)\n",
    "        if curr_sofa not in dct:\n",
    "            dct[curr_sofa] = (0,0)\n",
    "        #update number\n",
    "        total_count = dct[curr_sofa][0]\n",
    "        total_mort = dct[curr_sofa][1]\n",
    "        \n",
    "        if (curr_mort):\n",
    "            total_mort += 1\n",
    "            \n",
    "        update = (total_count + 1, total_mort)\n",
    "        dct[curr_sofa] = update\n",
    "        \n",
    "        curr_sofa = -1\n",
    "        curr_mort = -1\n",
    "\n",
    "if curr_sofa not in dct:\n",
    "    dct[curr_sofa] = (0,0)    \n",
    "total_count = dct[curr_sofa][0]\n",
    "total_mort = dct[curr_sofa][1]\n",
    "total_mort = dct[curr_sofa][1]\n",
    "if (curr_mort):\n",
    "    total_mort += 1\n",
    "            \n",
    "update = (total_count + 1, total_mort)\n",
    "dct[curr_sofa] = update\n",
    "\n",
    "\n"
   ]
  },
  {
   "cell_type": "code",
   "execution_count": 6,
   "metadata": {},
   "outputs": [
    {
     "data": {
      "text/plain": [
       "<BarContainer object of 24 artists>"
      ]
     },
     "execution_count": 6,
     "metadata": {},
     "output_type": "execute_result"
    },
    {
     "data": {
      "image/png": "[encoded data removed]",
      "text/plain": [
       "<Figure size 432x288 with 1 Axes>"
      ]
     },
     "metadata": {
      "needs_background": "light"
     },
     "output_type": "display_data"
    }
   ],
   "source": [
    "# plot data likelihood\n",
    "x = [i for i in range(24)]\n",
    "y = []\n",
    "for key in sorted(dct.keys()):\n",
    "    count, mort = dct[key]\n",
    "    survive = 1 - (mort / count)\n",
    "    y.append(survive)\n",
    "plt.bar(x,y)"
   ]
  },
  {
   "cell_type": "code",
   "execution_count": 15,
   "metadata": {},
   "outputs": [],
   "source": [
    "# calculate logistic likelihood\n",
    "def logistic_likelihood(x, alpha, beta):\n",
    "    return (1 / (1 + np.exp(beta*x + alpha)))\n",
    "\n",
    "# returns the log factorial\n",
    "def nCr(n,r):\n",
    "    lgamma = math.lgamma\n",
    "    return lgamma(n+1) - lgamma(r+1) - lgamma(n+1-r)\n",
    "    #return f(n) / f(r) / f(n-r)\n",
    "\n",
    "def log_likelihood(dct, alpha, beta):\n",
    "    log_likelihood = 0\n",
    "    for key in sorted(dct.keys()):\n",
    "        count, mort = dct[key]\n",
    "        survival = count - mort\n",
    "        p = logistic_likelihood(key , alpha, beta)\n",
    "        # convert to binomial likelihood\n",
    "        # (p)^y(1-p)^(1-y)\n",
    "        # log (nCr) + r log p + (count - r) log (1 - p)\n",
    "        log_likelihood += nCr(count, survival) + (survival * np.log(p)) + mort * np.log(1 - p)\n",
    "    return log_likelihood"
   ]
  },
  {
   "cell_type": "code",
   "execution_count": 16,
   "metadata": {},
   "outputs": [],
   "source": [
    "# logistic regression model\n",
    "# p(survive) = 1/(1+ e^(B(sofa) + a))\n",
    "cov = [[1,0], [0,1]] # for sampling from symmetric multivariate normal\n",
    "mean = [0,0]\n",
    "#alpha = pm.Normal('alpha', mu=0.0, tau=0.01, testval=0.0)\n",
    "#beta = pm.Normal('beta', mu=0.0, tau=0.01, testval=0.0)\n",
    "\n",
    "#initialize x(0). Sample from the prior distribution of alpha and beta\n",
    "#alpha = np.random.normal()\n",
    "x_init = np.random.multivariate_normal(mean, cov) # x_init = [alpha, beta]\n",
    "max_iters = 100000\n",
    "cov_q = [[0.05, 0], [0, 0.05]]\n",
    "x_hist = []\n",
    "for i in range(max_iters):\n",
    "    x_prop = x_init + np.random.multivariate_normal(mean, cov_q)\n",
    "    \n",
    "    alpha_prop = x_prop[0]\n",
    "    beta_prop = x_prop[1]\n",
    "    \n",
    "    alpha_prev = x_init[0]\n",
    "    beta_prev = x_init[1]\n",
    "    \n",
    "    \n",
    "    prior_alpha_prop = scipy.stats.norm(0, 1).pdf(alpha_prop)\n",
    "    prior_beta_prop = scipy.stats.norm(0, 1).pdf(beta_prop)\n",
    "    \n",
    "    prior_alpha_prev = scipy.stats.norm(0, 1).pdf(alpha_prev)\n",
    "    prior_beta_prev = scipy.stats.norm(0, 1).pdf(beta_prev)\n",
    "    \n",
    "    likelihood_prev = log_likelihood(dct, alpha_prev, beta_prev)\n",
    "    likelihood_prop = log_likelihood(dct, alpha_prop, beta_prop)\n",
    "    \n",
    "    #ratio = (likelihood_prop * prior_alpha_prop * prior_beta_prop) / (likelihood_prev * prior_alpha_prev * prior_beta_prev)\n",
    "    \n",
    "    accept_log_prob = min(0, likelihood_prop - likelihood_prev)\n",
    "    #print(accept_prob)\n",
    "    \n",
    "    rand = np.log(np.random.uniform(0.0, 1.0))\n",
    "    \n",
    "    if accept_log_prob > rand:\n",
    "        x_init = x_prop\n",
    "    \n",
    "    # store proposals\n",
    "    x_hist.append(x_init) "
   ]
  },
  {
   "cell_type": "code",
   "execution_count": 17,
   "metadata": {},
   "outputs": [
    {
     "data": {
      "text/plain": [
       "(array([ 2.46783805,  1.80919208,  4.26035555,  4.65220821,  2.36779056,\n",
       "        12.7227056 , 10.83014062, 21.11002005, 23.51949706, 47.07234328,\n",
       "        30.53949582, 29.54735823, 41.3196127 , 76.75309816, 61.82934781,\n",
       "        73.00131735, 65.58112863, 42.89536064, 34.5914191 , 25.37037559,\n",
       "        21.00997256, 30.13930587, 11.41375096, 22.53569676, 22.92754942,\n",
       "        12.71436831,  7.72866848,  0.83372907,  7.0783598 ,  1.73415647]),\n",
       " array([0.29366509, 0.29499779, 0.2963305 , 0.2976632 , 0.2989959 ,\n",
       "        0.3003286 , 0.3016613 , 0.302994  , 0.3043267 , 0.3056594 ,\n",
       "        0.3069921 , 0.3083248 , 0.3096575 , 0.3109902 , 0.3123229 ,\n",
       "        0.3136556 , 0.3149883 , 0.316321  , 0.3176537 , 0.3189864 ,\n",
       "        0.3203191 , 0.3216518 , 0.3229845 , 0.3243172 , 0.32564991,\n",
       "        0.32698261, 0.32831531, 0.32964801, 0.33098071, 0.33231341,\n",
       "        0.33364611]),\n",
       " <a list of 1 Patch objects>)"
      ]
     },
     "execution_count": 17,
     "metadata": {},
     "output_type": "execute_result"
    },
    {
     "data": {
      "image/png": "[encoded data removed]",
      "text/plain": [
       "<Figure size 432x288 with 1 Axes>"
      ]
     },
     "metadata": {
      "needs_background": "light"
     },
     "output_type": "display_data"
    }
   ],
   "source": [
    "alpha_samples = list(map(lambda x: x[0], x_hist))[10000:]\n",
    "beta_samples = list(map(lambda x: x[1], x_hist))[10000:]\n",
    "\n",
    "plt.hist(beta_samples, histtype='stepfilled', \n",
    "         color = 'darkblue', bins=30, alpha=0.8, density=True)"
   ]
  },
  {
   "cell_type": "code",
   "execution_count": 18,
   "metadata": {},
   "outputs": [
    {
     "data": {
      "text/plain": [
       "(array([6.46985552e-03, 5.02707774e-01, 1.24868211e-01, 3.60370952e-01,\n",
       "        2.76909816e-01, 9.28424267e-01, 1.84714375e+00, 1.34314201e+00,\n",
       "        1.60064226e+00, 1.75591879e+00, 1.39942975e+00, 2.65522870e+00,\n",
       "        3.82691954e+00, 4.06889214e+00, 4.92356005e+00, 6.73382562e+00,\n",
       "        6.97062233e+00, 3.99707674e+00, 3.86832661e+00, 2.47924863e+00,\n",
       "        1.62069881e+00, 2.92825661e+00, 1.45507051e+00, 1.15810414e+00,\n",
       "        3.20257848e-01, 2.86614599e-01, 4.34774291e-01, 1.81802940e-01,\n",
       "        1.94095666e-02, 1.53982561e-01]),\n",
       " array([-5.53660532, -5.51943166, -5.50225799, -5.48508433, -5.46791067,\n",
       "        -5.45073701, -5.43356335, -5.41638968, -5.39921602, -5.38204236,\n",
       "        -5.3648687 , -5.34769504, -5.33052137, -5.31334771, -5.29617405,\n",
       "        -5.27900039, -5.26182673, -5.24465307, -5.2274794 , -5.21030574,\n",
       "        -5.19313208, -5.17595842, -5.15878476, -5.14161109, -5.12443743,\n",
       "        -5.10726377, -5.09009011, -5.07291645, -5.05574278, -5.03856912,\n",
       "        -5.02139546]),\n",
       " <a list of 1 Patch objects>)"
      ]
     },
     "execution_count": 18,
     "metadata": {},
     "output_type": "execute_result"
    },
    {
     "data": {
      "image/png": "[encoded data removed]",
      "text/plain": [
       "<Figure size 432x288 with 1 Axes>"
      ]
     },
     "metadata": {
      "needs_background": "light"
     },
     "output_type": "display_data"
    }
   ],
   "source": [
    "plt.hist(alpha_samples, histtype='stepfilled', \n",
    "         color = 'darkred', bins=30, alpha=0.8, density=True)\n"
   ]
  },
  {
   "cell_type": "code",
   "execution_count": 20,
   "metadata": {},
   "outputs": [],
   "source": [
    "alpha_est = np.mean(alpha_samples)\n",
    "beta_est = np.mean(beta_samples)"
   ]
  },
  {
   "cell_type": "code",
   "execution_count": 25,
   "metadata": {},
   "outputs": [
    {
     "data": {
      "text/plain": [
       "<BarContainer object of 24 artists>"
      ]
     },
     "execution_count": 25,
     "metadata": {},
     "output_type": "execute_result"
    },
    {
     "data": {
      "image/png": "[encoded data removed]",
      "text/plain": [
       "<Figure size 432x288 with 1 Axes>"
      ]
     },
     "metadata": {
      "needs_background": "light"
     },
     "output_type": "display_data"
    }
   ],
   "source": [
    "Y = [logistic_likelihood(i, alpha_est, beta_est) for i in range(30)]\n",
    "plt.plot(Y)\n",
    "plt.bar(x,y)"
   ]
  },
  {
   "cell_type": "code",
   "execution_count": null,
   "metadata": {},
   "outputs": [],
   "source": []
  }
 ],
 "metadata": {
  "kernelspec": {
   "display_name": "Python 3",
   "language": "python",
   "name": "python3"
  },
  "language_info": {
   "codemirror_mode": {
    "name": "ipython",
    "version": 3
   },
   "file_extension": ".py",
   "mimetype": "text/x-python",
   "name": "python",
   "nbconvert_exporter": "python",
   "pygments_lexer": "ipython3",
   "version": "3.6.9"
  }
 },
 "nbformat": 4,
 "nbformat_minor": 4
}
