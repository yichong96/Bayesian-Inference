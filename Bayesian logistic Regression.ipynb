{
 "cells": [
  {
   "cell_type": "markdown",
   "metadata": {},
   "source": [
    "In this notebook, a logistic regression model is used to predict the probability of mortality for Sepsis patients. The model uses a single feature (SOFA) score for the patient. \n",
    "\n",
    "The underlying generative process of the data is assumed as following:\n",
    "1. Nature chooses some $\\theta$ which parameterizes the probability of mortality rates for individual SOFA scores ($X$)\n",
    "2. Of the total number of patients $N_i$ with a particular SOFA score, the number of patient survival $K$ (r.v), follows a binomial distribution. $$K \\sim Bin(N_i,p_{\\theta}(x_i))$$ where $x_i$ refers to a SOFA score\n",
    "3. The likelihood function is $$P(Y|X,\\theta) = \\prod_{i=1}^M {N_i \\choose K_i}p_{\\theta}(y_i|x_i)^{K_i}(1-p_{\\theta}(y_i|x_i))^{N_i-K_i}$$\n",
    "\n",
    "Where $N_i$ represents the total number of patients with a sofa score $x_i$ and $K_i$ represents the observed number of survival out of $N_i$ patients, $M$ represents the range of SOFA scores of patients\n",
    "\n",
    "The form of $p_{\\theta}(y_i|x_i)$ is the logistic function\n",
    "where $$p_{\\theta}(y_i|x_i) = \\sigma(\\theta_0 + \\theta_1 x_1)$$\n",
    "and $x_1$ represents the SOFA score\n",
    "\n",
    "We further assume a Gaussian prior over the parameters $\\theta_0,\\theta_1$. This means that computing the posterior is an intractable operation. MCMC sampling is used to sample from the posterior distribution\n"
   ]
  },
  {
   "cell_type": "code",
   "execution_count": 1,
   "metadata": {},
   "outputs": [],
   "source": [
    "# Bayesian inference problem for probability of survival for Sepsis patients\n",
    "# look at SOFA scores to determine uncertainty\n",
    "# Maximum SOFA score reached during trajectory and whether there was death or not\n",
    "import pandas as pd\n",
    "import numpy as np\n",
    "import matplotlib.pyplot as plt\n",
    "import scipy.stats\n",
    "import math"
   ]
  },
  {
   "cell_type": "code",
   "execution_count": 2,
   "metadata": {},
   "outputs": [],
   "source": [
    "data = pd.read_csv(\"../data/mimicdata_MK.csv\")"
   ]
  },
  {
   "cell_type": "code",
   "execution_count": 3,
   "metadata": {},
   "outputs": [],
   "source": [
    "# y = a(1 - r)^x\n",
    "# a = 1 and let r be unknown\n",
    "# x = max. SOFA score in a trjectory\n",
    "curr_sofa = -1\n",
    "curr_mort = -1\n",
    "dct = {}\n",
    "# visualize data likelihood\n",
    "for i in range(len(data) - 1):\n",
    "    curr_state = data.iloc[i]\n",
    "    next_state = data.iloc[i+1]\n",
    "    \n",
    "    sofa = curr_state['SOFA']\n",
    "    mort = curr_state['died_in_hosp']\n",
    "    icu_curr = curr_state['icustayid']\n",
    "    icu_next = next_state['icustayid']\n",
    "    \n",
    "    if (sofa > curr_sofa):\n",
    "        curr_sofa = sofa\n",
    "        curr_mort = mort\n",
    "        \n",
    "    if (icu_curr != icu_next):\n",
    "        # add statistics. (total, mortality)\n",
    "        if curr_sofa not in dct:\n",
    "            dct[curr_sofa] = (0,0)\n",
    "        #update number\n",
    "        total_count = dct[curr_sofa][0]\n",
    "        total_mort = dct[curr_sofa][1]\n",
    "        \n",
    "        if (curr_mort):\n",
    "            total_mort += 1\n",
    "            \n",
    "        update = (total_count + 1, total_mort)\n",
    "        dct[curr_sofa] = update\n",
    "        \n",
    "        curr_sofa = -1\n",
    "        curr_mort = -1\n",
    "\n",
    "if curr_sofa not in dct:\n",
    "    dct[curr_sofa] = (0,0)    \n",
    "total_count = dct[curr_sofa][0]\n",
    "total_mort = dct[curr_sofa][1]\n",
    "total_mort = dct[curr_sofa][1]\n",
    "if (curr_mort):\n",
    "    total_mort += 1\n",
    "            \n",
    "update = (total_count + 1, total_mort)\n",
    "dct[curr_sofa] = update\n",
    "\n",
    "\n"
   ]
  },
  {
   "cell_type": "code",
   "execution_count": 4,
   "metadata": {},
   "outputs": [
    {
     "data": {
      "text/plain": [
       "<BarContainer object of 24 artists>"
      ]
     },
     "execution_count": 4,
     "metadata": {},
     "output_type": "execute_result"
    },
    {
     "data": {
      "image/png": "[encoded data removed]",
      "text/plain": [
       "<Figure size 432x288 with 1 Axes>"
      ]
     },
     "metadata": {
      "needs_background": "light"
     },
     "output_type": "display_data"
    }
   ],
   "source": [
    "# plot data likelihood\n",
    "x = [i for i in range(24)]\n",
    "y = []\n",
    "for key in sorted(dct.keys()):\n",
    "    count, mort = dct[key]\n",
    "    survive = 1 - (mort / count)\n",
    "    y.append(survive)\n",
    "plt.bar(x,y)"
   ]
  },
  {
   "cell_type": "code",
   "execution_count": 5,
   "metadata": {},
   "outputs": [],
   "source": [
    "# calculate logistic likelihood\n",
    "def logistic_likelihood(x, alpha, beta):\n",
    "    return (1 / (1 + np.exp(beta*x + alpha)))\n",
    "\n",
    "# returns the log factorial\n",
    "def nCr(n,r):\n",
    "    lgamma = math.lgamma\n",
    "    return lgamma(n+1) - lgamma(r+1) - lgamma(n+1-r)\n",
    "    #return f(n) / f(r) / f(n-r)\n",
    "\n",
    "def log_likelihood(dct, alpha, beta):\n",
    "    log_likelihood = 0\n",
    "    for key in sorted(dct.keys()):\n",
    "        count, mort = dct[key]\n",
    "        survival = count - mort\n",
    "        p = logistic_likelihood(key , alpha, beta)\n",
    "        # convert to binomial likelihood\n",
    "        # (p)^y(1-p)^(1-y)\n",
    "        # log (nCr) + r log p + (count - r) log (1 - p)\n",
    "        log_likelihood += nCr(count, survival) + (survival * np.log(p)) + mort * np.log(1 - p)\n",
    "    return log_likelihood"
   ]
  },
  {
   "cell_type": "code",
   "execution_count": 6,
   "metadata": {},
   "outputs": [],
   "source": [
    "# logistic regression model\n",
    "# p(survive) = 1/(1+ e^(B(sofa) + a))\n",
    "cov = [[1,0], [0,1]] # for sampling from symmetric multivariate normal\n",
    "mean = [0,0]\n",
    "#alpha = pm.Normal('alpha', mu=0.0, tau=0.01, testval=0.0)\n",
    "#beta = pm.Normal('beta', mu=0.0, tau=0.01, testval=0.0)\n",
    "\n",
    "#initialize x(0). Sample from the prior distribution of alpha and beta\n",
    "#alpha = np.random.normal()\n",
    "x_init = np.random.multivariate_normal(mean, cov) # x_init = [alpha, beta]\n",
    "max_iters = 100000\n",
    "cov_q = [[0.05, 0], [0, 0.05]]\n",
    "x_hist = []\n",
    "for i in range(max_iters):\n",
    "    x_prop = x_init + np.random.multivariate_normal(mean, cov_q)\n",
    "    \n",
    "    alpha_prop = x_prop[0]\n",
    "    beta_prop = x_prop[1]\n",
    "    \n",
    "    alpha_prev = x_init[0]\n",
    "    beta_prev = x_init[1]\n",
    "    \n",
    "    \n",
    "    prior_alpha_prop = scipy.stats.norm(0, 1).pdf(alpha_prop)\n",
    "    prior_beta_prop = scipy.stats.norm(0, 1).pdf(beta_prop)\n",
    "    \n",
    "    prior_alpha_prev = scipy.stats.norm(0, 1).pdf(alpha_prev)\n",
    "    prior_beta_prev = scipy.stats.norm(0, 1).pdf(beta_prev)\n",
    "    \n",
    "    likelihood_prev = log_likelihood(dct, alpha_prev, beta_prev)\n",
    "    likelihood_prop = log_likelihood(dct, alpha_prop, beta_prop)\n",
    "    \n",
    "    #ratio = (likelihood_prop * prior_alpha_prop * prior_beta_prop) / (likelihood_prev * prior_alpha_prev * prior_beta_prev)\n",
    "    \n",
    "    accept_log_prob = min(0, likelihood_prop - likelihood_prev)\n",
    "    #print(accept_prob)\n",
    "    \n",
    "    rand = np.log(np.random.uniform(0.0, 1.0))\n",
    "    \n",
    "    if accept_log_prob > rand:\n",
    "        x_init = x_prop\n",
    "    \n",
    "    # store proposals\n",
    "    x_hist.append(x_init) "
   ]
  },
  {
   "cell_type": "code",
   "execution_count": 7,
   "metadata": {},
   "outputs": [
    {
     "data": {
      "text/plain": [
       "(array([  4.89484975,   5.17191671,   0.        ,   0.        ,\n",
       "          2.73988445,   8.06572725,   3.72501144,  29.70773588,\n",
       "         30.75443331,  41.96025285,  13.82256312,  47.07059913,\n",
       "        106.33214479,  49.77969836,  33.61745863,  29.15360194,\n",
       "         30.10794372,  36.41891352,  21.08787469,  44.82327817,\n",
       "         21.42651209,  21.98064603,   6.40332545,  15.30025361,\n",
       "          2.30889139,   0.        ,   3.75579666,   0.        ,\n",
       "          1.50847571,   3.78658188]),\n",
       " array([0.29071395, 0.29233811, 0.29396226, 0.29558642, 0.29721057,\n",
       "        0.29883473, 0.30045889, 0.30208304, 0.3037072 , 0.30533136,\n",
       "        0.30695551, 0.30857967, 0.31020382, 0.31182798, 0.31345214,\n",
       "        0.31507629, 0.31670045, 0.3183246 , 0.31994876, 0.32157292,\n",
       "        0.32319707, 0.32482123, 0.32644538, 0.32806954, 0.3296937 ,\n",
       "        0.33131785, 0.33294201, 0.33456616, 0.33619032, 0.33781448,\n",
       "        0.33943863]),\n",
       " [<matplotlib.patches.Polygon at 0x7f8cb7decf60>])"
      ]
     },
     "execution_count": 7,
     "metadata": {},
     "output_type": "execute_result"
    },
    {
     "data": {
      "image/png": "[encoded data removed]",
      "text/plain": [
       "<Figure size 432x288 with 1 Axes>"
      ]
     },
     "metadata": {
      "needs_background": "light"
     },
     "output_type": "display_data"
    }
   ],
   "source": [
    "alpha_samples = list(map(lambda x: x[0], x_hist))[80000:]\n",
    "beta_samples = list(map(lambda x: x[1], x_hist))[80000:]\n",
    "\n",
    "plt.hist(beta_samples, histtype='stepfilled', \n",
    "         color = 'darkblue', bins=30, alpha=0.8, density=True)"
   ]
  },
  {
   "cell_type": "code",
   "execution_count": 8,
   "metadata": {},
   "outputs": [
    {
     "data": {
      "text/plain": [
       "(array([0.69078684, 0.13815737, 0.        , 0.74435807, 0.86277867,\n",
       "        0.83458329, 1.85807563, 1.46615983, 0.23120213, 1.84397794,\n",
       "        4.40411858, 3.62874559, 0.91916943, 2.78288415, 4.35336689,\n",
       "        3.57517436, 2.93795874, 7.82985742, 3.94171432, 3.48494914,\n",
       "        1.61277582, 4.10524753, 1.98777439, 0.20864582, 0.46804333,\n",
       "        0.55826855, 0.        , 0.        , 0.        , 0.92198897]),\n",
       " array([-5.54026796, -5.52253456, -5.50480116, -5.48706776, -5.46933436,\n",
       "        -5.45160095, -5.43386755, -5.41613415, -5.39840075, -5.38066735,\n",
       "        -5.36293395, -5.34520055, -5.32746715, -5.30973375, -5.29200035,\n",
       "        -5.27426695, -5.25653355, -5.23880014, -5.22106674, -5.20333334,\n",
       "        -5.18559994, -5.16786654, -5.15013314, -5.13239974, -5.11466634,\n",
       "        -5.09693294, -5.07919954, -5.06146614, -5.04373274, -5.02599933,\n",
       "        -5.00826593]),\n",
       " [<matplotlib.patches.Polygon at 0x7f8cb7f0fd68>])"
      ]
     },
     "execution_count": 8,
     "metadata": {},
     "output_type": "execute_result"
    },
    {
     "data": {
      "image/png": "[encoded data removed]",
      "text/plain": [
       "<Figure size 432x288 with 1 Axes>"
      ]
     },
     "metadata": {
      "needs_background": "light"
     },
     "output_type": "display_data"
    }
   ],
   "source": [
    "plt.hist(alpha_samples, histtype='stepfilled', \n",
    "         color = 'darkred', bins=30, alpha=0.8, density=True)\n"
   ]
  },
  {
   "cell_type": "code",
   "execution_count": 9,
   "metadata": {},
   "outputs": [],
   "source": [
    "alpha_est = np.mean(alpha_samples)\n",
    "beta_est = np.mean(beta_samples)"
   ]
  },
  {
   "cell_type": "code",
   "execution_count": 10,
   "metadata": {},
   "outputs": [
    {
     "data": {
      "text/plain": [
       "<BarContainer object of 24 artists>"
      ]
     },
     "execution_count": 10,
     "metadata": {},
     "output_type": "execute_result"
    },
    {
     "data": {
      "image/png": "[encoded data removed]",
      "text/plain": [
       "<Figure size 432x288 with 1 Axes>"
      ]
     },
     "metadata": {
      "needs_background": "light"
     },
     "output_type": "display_data"
    }
   ],
   "source": [
    "Y = [logistic_likelihood(i, alpha_est, beta_est) for i in range(30)]\n",
    "plt.plot(Y)\n",
    "plt.bar(x,y)"
   ]
  },
  {
   "cell_type": "markdown",
   "metadata": {},
   "source": [
    "The probability of survival, given a new $x^*$ value is given by the equation $$p(y^*|x^*, X) = \\int p(y^*|x^*,\\theta)p(\\theta | X)$$\n",
    "where $p(\\theta|X)$ is the posterior over weights and $p(y^*|x^*,\\theta)$ is the probability distribution of patient survival/death given a new SOFA score $x^*$ and parameter $\\theta$, corresponding to the logistic regression model\n",
    "\n",
    "We can approximate the whole posterior predictive over the range of SOFA scores by sampling. $$E_{\\theta \\sim p(\\theta|X)}[p(y^*|x^*,\\theta)]$$\n"
   ]
  },
  {
   "cell_type": "code",
   "execution_count": 15,
   "metadata": {},
   "outputs": [
    {
     "data": {
      "image/png": "[encoded data removed]",
      "text/plain": [
       "<Figure size 432x288 with 1 Axes>"
      ]
     },
     "metadata": {
      "needs_background": "light"
     },
     "output_type": "display_data"
    }
   ],
   "source": [
    "tot_samples = len(alpha_samples)\n",
    "plt.bar(x,y)\n",
    "for i in range(tot_samples):\n",
    "    alpha = alpha_samples[i]\n",
    "    beta = beta_samples[i]\n",
    "    \n",
    "    Y = [logistic_likelihood(i, alpha, beta) for i in range(-5,30)]\n",
    "    plt.plot(np.arange(-5,30), Y)\n",
    "\n",
    "plt.show()"
   ]
  },
  {
   "cell_type": "markdown",
   "metadata": {},
   "source": [
    "The model gives higher uncertainty over regions in which SOFA score > 15. This could be due to the l"
   ]
  }
 ],
 "metadata": {
  "kernelspec": {
   "display_name": "Python 3",
   "language": "python",
   "name": "python3"
  },
  "language_info": {
   "codemirror_mode": {
    "name": "ipython",
    "version": 3
   },
   "file_extension": ".py",
   "mimetype": "text/x-python",
   "name": "python",
   "nbconvert_exporter": "python",
   "pygments_lexer": "ipython3",
   "version": "3.6.12"
  }
 },
 "nbformat": 4,
 "nbformat_minor": 4
}
